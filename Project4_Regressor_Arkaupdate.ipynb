{
  "nbformat": 4,
  "nbformat_minor": 0,
  "metadata": {
    "colab": {
      "name": "Project4_Regressor_Arkaupdate.ipynb",
      "provenance": [],
      "collapsed_sections": []
    },
    "kernelspec": {
      "name": "python3",
      "display_name": "Python 3"
    }
  },
  "cells": [
    {
      "cell_type": "markdown",
      "metadata": {
        "id": "j2elF0050K9W",
        "colab_type": "text"
      },
      "source": [
        "#Welcome to our Project 4 regressor notebook!\n",
        "\n",
        "Here we will create multiple regression tech. to predict daily high, low, wind speed and precip over Champaign IL. \n",
        "\n",
        "First up, clone the repository. "
      ]
    },
    {
      "cell_type": "code",
      "metadata": {
        "id": "vjwqBk20u-yl",
        "colab_type": "code",
        "outputId": "68023dd0-0cb5-4854-b598-b38fe201d7ae",
        "colab": {
          "base_uri": "https://localhost:8080/",
          "height": 34
        }
      },
      "source": [
        "# get our project github directory \n",
        "!git clone https://github.com/mitraarka27/ATMS-597-SP-2020-Project4-GroupG.git"
      ],
      "execution_count": 47,
      "outputs": [
        {
          "output_type": "stream",
          "text": [
            "fatal: destination path 'ATMS-597-SP-2020-Project4-GroupG' already exists and is not an empty directory.\n"
          ],
          "name": "stdout"
        }
      ]
    },
    {
      "cell_type": "code",
      "metadata": {
        "id": "Qk7Rq3Rfx3e3",
        "colab_type": "code",
        "colab": {}
      },
      "source": [
        "#open up the data archives (puts them in the current dir under ./bufkit)\n",
        "!tar xzf ./ATMS-597-SP-2020-Project4-GroupG/ATMS-597-SP-2020-Project-4/daily.tar.gz\n",
        "!tar xzf ./ATMS-597-SP-2020-Project4-GroupG/ATMS-597-SP-2020-Project-4/prof.tar.gz\n",
        "!tar xzf ./ATMS-597-SP-2020-Project4-GroupG/ATMS-597-SP-2020-Project-4/sfc.tar.gz"
      ],
      "execution_count": 0,
      "outputs": []
    },
    {
      "cell_type": "code",
      "metadata": {
        "id": "PI9tws8ObwJz",
        "colab_type": "code",
        "colab": {
          "base_uri": "https://localhost:8080/",
          "height": 436
        },
        "outputId": "b08980ce-1c5d-477b-afba-5a78b1cd65ee"
      },
      "source": [
        "import glob\n",
        "import pandas as pd\n",
        "import numpy as np\n",
        "\n",
        "\n",
        "prof_df = pd.DataFrame(columns=['date','hght500', 'hght250', 'temp850', 'temp500', 'temp250',\n",
        "                               'dwpc850', 'dwpc750', 'wspd925', 'wspd850', 'wspd500','wspd250'])\n",
        "filenames = glob.glob('./bufkit/*_prof.csv'); print(filenames[0])\n",
        "for nfile in range(0,len(filenames)):\n",
        "    A = pd.read_csv(filenames[nfile])\n",
        "    plevels =[925.0,850.0,700.0,500.0,250.0,100.0]\n",
        "    for i in range (0,8):\n",
        "        date = pd.to_datetime(A['Unnamed: 0'].values).date[0]\n",
        "        hght = np.fromstring(A['HGHT'][i][1:-1], sep=', ')\n",
        "        hght_500 = hght[3]\n",
        "        hght_250 = hght[4]\n",
        "        temp = np.fromstring(A['TMPC'][i][1:-1], sep=', ')\n",
        "        temp_850 = temp[1]\n",
        "        temp_500 = temp[3]\n",
        "        temp_250 = temp[4]\n",
        "        dwpc = np.fromstring(A['DWPC'][i][1:-1], sep=', ')\n",
        "        dwpc_850 = dwpc[1]\n",
        "        dwpc_750 = dwpc[2]\n",
        "        uwnd = np.fromstring(A['UWND'][i][1:-1], sep=', ')\n",
        "        vwnd = np.fromstring(A['VWND'][i][1:-1], sep=', ')\n",
        "        u = uwnd[0]; v = vwnd[0]; wspd_925 = np.sqrt(u**2 + v**2)\n",
        "        u = uwnd[1]; v = vwnd[1]; wspd_850 = np.sqrt(u**2 + v**2)\n",
        "        u = uwnd[3]; v = vwnd[3]; wspd_500 = np.sqrt(u**2 + v**2)\n",
        "        u = uwnd[4]; v = vwnd[4]; wspd_250 = np.sqrt(u**2 + v**2)\n",
        "        prof_df.loc[nfile*8+i] = [date, hght_500, hght_250, temp_850,temp_500, temp_250, dwpc_850, dwpc_750,\n",
        "                         wspd_925, wspd_850, wspd_500, wspd_250]\n",
        "    \n",
        "prof_df.to_csv(\"./KCMI_prof.csv\", encoding='utf-8')\n",
        "prof_df"
      ],
      "execution_count": 50,
      "outputs": [
        {
          "output_type": "stream",
          "text": [
            "./bufkit/2016062812.gfs_kcmi.buf_prof.csv\n"
          ],
          "name": "stdout"
        },
        {
          "output_type": "execute_result",
          "data": {
            "text/html": [
              "<div>\n",
              "<style scoped>\n",
              "    .dataframe tbody tr th:only-of-type {\n",
              "        vertical-align: middle;\n",
              "    }\n",
              "\n",
              "    .dataframe tbody tr th {\n",
              "        vertical-align: top;\n",
              "    }\n",
              "\n",
              "    .dataframe thead th {\n",
              "        text-align: right;\n",
              "    }\n",
              "</style>\n",
              "<table border=\"1\" class=\"dataframe\">\n",
              "  <thead>\n",
              "    <tr style=\"text-align: right;\">\n",
              "      <th></th>\n",
              "      <th>date</th>\n",
              "      <th>hght500</th>\n",
              "      <th>hght250</th>\n",
              "      <th>temp850</th>\n",
              "      <th>temp500</th>\n",
              "      <th>temp250</th>\n",
              "      <th>dwpc850</th>\n",
              "      <th>dwpc750</th>\n",
              "      <th>wspd925</th>\n",
              "      <th>wspd850</th>\n",
              "      <th>wspd500</th>\n",
              "      <th>wspd250</th>\n",
              "    </tr>\n",
              "  </thead>\n",
              "  <tbody>\n",
              "    <tr>\n",
              "      <th>0</th>\n",
              "      <td>2016-06-29</td>\n",
              "      <td>5794.218409</td>\n",
              "      <td>10723.445789</td>\n",
              "      <td>11.063810</td>\n",
              "      <td>-11.516818</td>\n",
              "      <td>-45.086316</td>\n",
              "      <td>1.306190</td>\n",
              "      <td>-28.149130</td>\n",
              "      <td>16.551860</td>\n",
              "      <td>9.153810</td>\n",
              "      <td>25.799545</td>\n",
              "      <td>63.252632</td>\n",
              "    </tr>\n",
              "    <tr>\n",
              "      <th>1</th>\n",
              "      <td>2016-06-29</td>\n",
              "      <td>5786.170399</td>\n",
              "      <td>10701.714211</td>\n",
              "      <td>11.771905</td>\n",
              "      <td>-11.682222</td>\n",
              "      <td>-46.782556</td>\n",
              "      <td>-4.889667</td>\n",
              "      <td>-28.818060</td>\n",
              "      <td>18.560310</td>\n",
              "      <td>9.400762</td>\n",
              "      <td>27.914615</td>\n",
              "      <td>50.261504</td>\n",
              "    </tr>\n",
              "    <tr>\n",
              "      <th>2</th>\n",
              "      <td>2016-06-29</td>\n",
              "      <td>5780.035114</td>\n",
              "      <td>10702.125811</td>\n",
              "      <td>10.629100</td>\n",
              "      <td>-11.802614</td>\n",
              "      <td>-45.824151</td>\n",
              "      <td>-8.716777</td>\n",
              "      <td>-25.576622</td>\n",
              "      <td>10.747442</td>\n",
              "      <td>8.109384</td>\n",
              "      <td>28.316733</td>\n",
              "      <td>78.199245</td>\n",
              "    </tr>\n",
              "    <tr>\n",
              "      <th>3</th>\n",
              "      <td>2016-06-29</td>\n",
              "      <td>5791.958385</td>\n",
              "      <td>10732.626316</td>\n",
              "      <td>10.663333</td>\n",
              "      <td>-12.018074</td>\n",
              "      <td>-46.375789</td>\n",
              "      <td>-9.762952</td>\n",
              "      <td>-27.598395</td>\n",
              "      <td>10.546977</td>\n",
              "      <td>9.987190</td>\n",
              "      <td>26.807110</td>\n",
              "      <td>90.219737</td>\n",
              "    </tr>\n",
              "    <tr>\n",
              "      <th>4</th>\n",
              "      <td>2016-06-29</td>\n",
              "      <td>5802.050028</td>\n",
              "      <td>10743.961842</td>\n",
              "      <td>9.692381</td>\n",
              "      <td>-11.461136</td>\n",
              "      <td>-47.057368</td>\n",
              "      <td>-2.360857</td>\n",
              "      <td>-28.189732</td>\n",
              "      <td>5.170000</td>\n",
              "      <td>6.679524</td>\n",
              "      <td>29.708153</td>\n",
              "      <td>75.444211</td>\n",
              "    </tr>\n",
              "    <tr>\n",
              "      <th>...</th>\n",
              "      <td>...</td>\n",
              "      <td>...</td>\n",
              "      <td>...</td>\n",
              "      <td>...</td>\n",
              "      <td>...</td>\n",
              "      <td>...</td>\n",
              "      <td>...</td>\n",
              "      <td>...</td>\n",
              "      <td>...</td>\n",
              "      <td>...</td>\n",
              "      <td>...</td>\n",
              "      <td>...</td>\n",
              "    </tr>\n",
              "    <tr>\n",
              "      <th>29155</th>\n",
              "      <td>2017-03-21</td>\n",
              "      <td>5691.808555</td>\n",
              "      <td>10496.519023</td>\n",
              "      <td>4.831943</td>\n",
              "      <td>-17.642720</td>\n",
              "      <td>-55.884060</td>\n",
              "      <td>-11.096682</td>\n",
              "      <td>-7.140000</td>\n",
              "      <td>23.285504</td>\n",
              "      <td>13.208910</td>\n",
              "      <td>54.530453</td>\n",
              "      <td>86.176955</td>\n",
              "    </tr>\n",
              "    <tr>\n",
              "      <th>29156</th>\n",
              "      <td>2017-03-21</td>\n",
              "      <td>5677.475977</td>\n",
              "      <td>10479.998052</td>\n",
              "      <td>3.335735</td>\n",
              "      <td>-17.164249</td>\n",
              "      <td>-55.500449</td>\n",
              "      <td>-14.403839</td>\n",
              "      <td>-4.044177</td>\n",
              "      <td>19.401085</td>\n",
              "      <td>14.732891</td>\n",
              "      <td>56.470000</td>\n",
              "      <td>83.601461</td>\n",
              "    </tr>\n",
              "    <tr>\n",
              "      <th>29157</th>\n",
              "      <td>2017-03-21</td>\n",
              "      <td>5662.425763</td>\n",
              "      <td>10466.834211</td>\n",
              "      <td>0.712512</td>\n",
              "      <td>-17.191073</td>\n",
              "      <td>-53.138195</td>\n",
              "      <td>-2.898436</td>\n",
              "      <td>-5.445949</td>\n",
              "      <td>20.533846</td>\n",
              "      <td>21.823081</td>\n",
              "      <td>55.475593</td>\n",
              "      <td>77.347444</td>\n",
              "    </tr>\n",
              "    <tr>\n",
              "      <th>29158</th>\n",
              "      <td>2017-03-21</td>\n",
              "      <td>5656.617620</td>\n",
              "      <td>10460.180524</td>\n",
              "      <td>1.099716</td>\n",
              "      <td>-17.462550</td>\n",
              "      <td>-53.425918</td>\n",
              "      <td>-9.316919</td>\n",
              "      <td>-5.296952</td>\n",
              "      <td>19.964419</td>\n",
              "      <td>23.698483</td>\n",
              "      <td>61.355921</td>\n",
              "      <td>82.925094</td>\n",
              "    </tr>\n",
              "    <tr>\n",
              "      <th>29159</th>\n",
              "      <td>2017-03-21</td>\n",
              "      <td>5656.016592</td>\n",
              "      <td>10459.734906</td>\n",
              "      <td>-0.831698</td>\n",
              "      <td>-17.867324</td>\n",
              "      <td>-52.825543</td>\n",
              "      <td>-27.666981</td>\n",
              "      <td>-8.585615</td>\n",
              "      <td>19.118615</td>\n",
              "      <td>19.005283</td>\n",
              "      <td>57.899972</td>\n",
              "      <td>89.357041</td>\n",
              "    </tr>\n",
              "  </tbody>\n",
              "</table>\n",
              "<p>29160 rows × 12 columns</p>\n",
              "</div>"
            ],
            "text/plain": [
              "             date      hght500       hght250  ...    wspd850    wspd500    wspd250\n",
              "0      2016-06-29  5794.218409  10723.445789  ...   9.153810  25.799545  63.252632\n",
              "1      2016-06-29  5786.170399  10701.714211  ...   9.400762  27.914615  50.261504\n",
              "2      2016-06-29  5780.035114  10702.125811  ...   8.109384  28.316733  78.199245\n",
              "3      2016-06-29  5791.958385  10732.626316  ...   9.987190  26.807110  90.219737\n",
              "4      2016-06-29  5802.050028  10743.961842  ...   6.679524  29.708153  75.444211\n",
              "...           ...          ...           ...  ...        ...        ...        ...\n",
              "29155  2017-03-21  5691.808555  10496.519023  ...  13.208910  54.530453  86.176955\n",
              "29156  2017-03-21  5677.475977  10479.998052  ...  14.732891  56.470000  83.601461\n",
              "29157  2017-03-21  5662.425763  10466.834211  ...  21.823081  55.475593  77.347444\n",
              "29158  2017-03-21  5656.617620  10460.180524  ...  23.698483  61.355921  82.925094\n",
              "29159  2017-03-21  5656.016592  10459.734906  ...  19.005283  57.899972  89.357041\n",
              "\n",
              "[29160 rows x 12 columns]"
            ]
          },
          "metadata": {
            "tags": []
          },
          "execution_count": 50
        }
      ]
    },
    {
      "cell_type": "markdown",
      "metadata": {
        "id": "tdVs7z8G0oE2",
        "colab_type": "text"
      },
      "source": [
        "The files we have are the following: \n",
        "\n",
        "1) YYYYMMDDHH.gfs_kcmi.buf_daily.csv\n",
        "\n",
        "2) YYYYMMDDHH.gfs_kcmi.buf_sfc.csv\n",
        "\n",
        "3) YYYYMMDDHH.gfs_kcmi.buf_prof.csv\n",
        "\n",
        " ---\n",
        "\n",
        "The next cell defines the main class. This will do most the heavy lifting"
      ]
    },
    {
      "cell_type": "code",
      "metadata": {
        "id": "WEM-8L3N4jth",
        "colab_type": "code",
        "colab": {
          "base_uri": "https://localhost:8080/",
          "height": 674
        },
        "outputId": "6b491c64-0787-47eb-9e7c-b022e7efb1ee"
      },
      "source": [
        "filename = './KCMI_prof.csv'\n",
        "df_prof = pd.read_csv(filename)\n",
        "df_prof = df_prof.loc[:, ~df_prof.columns.str.contains('^Unnamed')]\n",
        "df_prof = df_prof.set_index(pd.DatetimeIndex(df_prof['date']))\n",
        "df_prof = df_prof.loc[:, ~df_prof.columns.str.contains('date')]\n",
        "\n",
        "#split the data into train and test \n",
        "df_prof_train = df_prof.iloc[df_prof.index.values < np.datetime64('2019-01-01')]\n",
        "df_prof_test = df_prof.iloc[df_prof.index.values >= np.datetime64('2019-01-01')]\n",
        "\n",
        "# #valid training range\n",
        "dtime_index_train = pd.date_range(start='2010-01-02',end='2018-12-31')\n",
        "df_prof_train = df_prof_train[~df_prof_train.index.duplicated()]\n",
        "df_prof_train = df_prof_train.reindex(index=dtime_index_train)\n",
        "\n",
        "# #valid testing range \n",
        "dtime_index_test = pd.date_range(start='2019-01-01',end='2019-12-31')\n",
        "df_prof_test = df_prof_test[~df_prof_test.index.duplicated()]\n",
        "df_prof_test = df_prof_test.reindex(index=dtime_index_test)\n",
        "\n",
        "df_prof_test"
      ],
      "execution_count": 105,
      "outputs": [
        {
          "output_type": "stream",
          "text": [
            "                hght500       hght250  ...    wspd500    wspd250\n",
            "date                                   ...                      \n",
            "2016-06-29  5794.218409  10723.445789  ...  25.799545  63.252632\n",
            "2016-06-29  5786.170399  10701.714211  ...  27.914615  50.261504\n",
            "2016-06-29  5780.035114  10702.125811  ...  28.316733  78.199245\n",
            "2016-06-29  5791.958385  10732.626316  ...  26.807110  90.219737\n",
            "2016-06-29  5802.050028  10743.961842  ...  29.708153  75.444211\n",
            "...                 ...           ...  ...        ...        ...\n",
            "2017-03-21  5691.808555  10496.519023  ...  54.530453  86.176955\n",
            "2017-03-21  5677.475977  10479.998052  ...  56.470000  83.601461\n",
            "2017-03-21  5662.425763  10466.834211  ...  55.475593  77.347444\n",
            "2017-03-21  5656.617620  10460.180524  ...  61.355921  82.925094\n",
            "2017-03-21  5656.016592  10459.734906  ...  57.899972  89.357041\n",
            "\n",
            "[25992 rows x 11 columns]\n"
          ],
          "name": "stdout"
        },
        {
          "output_type": "execute_result",
          "data": {
            "text/html": [
              "<div>\n",
              "<style scoped>\n",
              "    .dataframe tbody tr th:only-of-type {\n",
              "        vertical-align: middle;\n",
              "    }\n",
              "\n",
              "    .dataframe tbody tr th {\n",
              "        vertical-align: top;\n",
              "    }\n",
              "\n",
              "    .dataframe thead th {\n",
              "        text-align: right;\n",
              "    }\n",
              "</style>\n",
              "<table border=\"1\" class=\"dataframe\">\n",
              "  <thead>\n",
              "    <tr style=\"text-align: right;\">\n",
              "      <th></th>\n",
              "      <th>hght500</th>\n",
              "      <th>hght250</th>\n",
              "      <th>temp850</th>\n",
              "      <th>temp500</th>\n",
              "      <th>temp250</th>\n",
              "      <th>dwpc850</th>\n",
              "      <th>dwpc750</th>\n",
              "      <th>wspd925</th>\n",
              "      <th>wspd850</th>\n",
              "      <th>wspd500</th>\n",
              "      <th>wspd250</th>\n",
              "    </tr>\n",
              "  </thead>\n",
              "  <tbody>\n",
              "    <tr>\n",
              "      <th>2019-01-01</th>\n",
              "      <td>5584.091691</td>\n",
              "      <td>10417.218561</td>\n",
              "      <td>0.567225</td>\n",
              "      <td>-17.258281</td>\n",
              "      <td>-49.050909</td>\n",
              "      <td>-0.413298</td>\n",
              "      <td>-19.958586</td>\n",
              "      <td>19.837969</td>\n",
              "      <td>20.288377</td>\n",
              "      <td>82.993725</td>\n",
              "      <td>155.469545</td>\n",
              "    </tr>\n",
              "    <tr>\n",
              "      <th>2019-01-02</th>\n",
              "      <td>5607.236949</td>\n",
              "      <td>10427.617116</td>\n",
              "      <td>-7.171321</td>\n",
              "      <td>-19.254915</td>\n",
              "      <td>-52.209813</td>\n",
              "      <td>-8.795283</td>\n",
              "      <td>-14.774937</td>\n",
              "      <td>6.552713</td>\n",
              "      <td>9.914151</td>\n",
              "      <td>81.270056</td>\n",
              "      <td>125.929139</td>\n",
              "    </tr>\n",
              "    <tr>\n",
              "      <th>2019-01-03</th>\n",
              "      <td>5559.155641</td>\n",
              "      <td>10417.338415</td>\n",
              "      <td>-3.090476</td>\n",
              "      <td>-19.124103</td>\n",
              "      <td>-51.666038</td>\n",
              "      <td>-12.919905</td>\n",
              "      <td>-31.672308</td>\n",
              "      <td>19.557287</td>\n",
              "      <td>22.234762</td>\n",
              "      <td>58.783590</td>\n",
              "      <td>142.119585</td>\n",
              "    </tr>\n",
              "    <tr>\n",
              "      <th>2019-01-04</th>\n",
              "      <td>5649.720516</td>\n",
              "      <td>10466.396818</td>\n",
              "      <td>4.529005</td>\n",
              "      <td>-16.389799</td>\n",
              "      <td>-54.090303</td>\n",
              "      <td>-8.970471</td>\n",
              "      <td>-24.884815</td>\n",
              "      <td>10.650625</td>\n",
              "      <td>6.755288</td>\n",
              "      <td>14.805960</td>\n",
              "      <td>53.075303</td>\n",
              "    </tr>\n",
              "    <tr>\n",
              "      <th>2019-01-05</th>\n",
              "      <td>5594.529366</td>\n",
              "      <td>10421.502471</td>\n",
              "      <td>5.320000</td>\n",
              "      <td>-15.956542</td>\n",
              "      <td>-54.001825</td>\n",
              "      <td>-4.746000</td>\n",
              "      <td>-14.205986</td>\n",
              "      <td>16.590000</td>\n",
              "      <td>21.676000</td>\n",
              "      <td>27.923660</td>\n",
              "      <td>46.571559</td>\n",
              "    </tr>\n",
              "    <tr>\n",
              "      <th>...</th>\n",
              "      <td>...</td>\n",
              "      <td>...</td>\n",
              "      <td>...</td>\n",
              "      <td>...</td>\n",
              "      <td>...</td>\n",
              "      <td>...</td>\n",
              "      <td>...</td>\n",
              "      <td>...</td>\n",
              "      <td>...</td>\n",
              "      <td>...</td>\n",
              "      <td>...</td>\n",
              "    </tr>\n",
              "    <tr>\n",
              "      <th>2019-12-27</th>\n",
              "      <td>5693.368091</td>\n",
              "      <td>10558.402604</td>\n",
              "      <td>5.760000</td>\n",
              "      <td>-15.727521</td>\n",
              "      <td>-50.580000</td>\n",
              "      <td>1.629143</td>\n",
              "      <td>-22.974228</td>\n",
              "      <td>17.255116</td>\n",
              "      <td>29.974000</td>\n",
              "      <td>62.209288</td>\n",
              "      <td>100.965396</td>\n",
              "    </tr>\n",
              "    <tr>\n",
              "      <th>2019-12-28</th>\n",
              "      <td>5693.079348</td>\n",
              "      <td>10505.704812</td>\n",
              "      <td>6.165592</td>\n",
              "      <td>-18.374448</td>\n",
              "      <td>-54.241955</td>\n",
              "      <td>-8.834313</td>\n",
              "      <td>-5.708667</td>\n",
              "      <td>10.053231</td>\n",
              "      <td>8.002227</td>\n",
              "      <td>42.241303</td>\n",
              "      <td>88.832105</td>\n",
              "    </tr>\n",
              "    <tr>\n",
              "      <th>2019-12-29</th>\n",
              "      <td>5645.278642</td>\n",
              "      <td>10574.277634</td>\n",
              "      <td>9.841587</td>\n",
              "      <td>-13.197283</td>\n",
              "      <td>-48.663053</td>\n",
              "      <td>9.588571</td>\n",
              "      <td>-0.840204</td>\n",
              "      <td>40.815965</td>\n",
              "      <td>47.237619</td>\n",
              "      <td>58.876936</td>\n",
              "      <td>116.470305</td>\n",
              "    </tr>\n",
              "    <tr>\n",
              "      <th>2019-12-30</th>\n",
              "      <td>5386.479091</td>\n",
              "      <td>10240.814538</td>\n",
              "      <td>0.291872</td>\n",
              "      <td>-24.960000</td>\n",
              "      <td>-42.705769</td>\n",
              "      <td>0.121070</td>\n",
              "      <td>-7.714414</td>\n",
              "      <td>35.787228</td>\n",
              "      <td>25.752406</td>\n",
              "      <td>42.492727</td>\n",
              "      <td>93.965423</td>\n",
              "    </tr>\n",
              "    <tr>\n",
              "      <th>2019-12-31</th>\n",
              "      <td>5356.041826</td>\n",
              "      <td>10181.056565</td>\n",
              "      <td>-6.270053</td>\n",
              "      <td>-26.897391</td>\n",
              "      <td>-39.290534</td>\n",
              "      <td>-7.058466</td>\n",
              "      <td>-15.218435</td>\n",
              "      <td>30.126814</td>\n",
              "      <td>36.599947</td>\n",
              "      <td>39.001652</td>\n",
              "      <td>69.960458</td>\n",
              "    </tr>\n",
              "  </tbody>\n",
              "</table>\n",
              "<p>365 rows × 11 columns</p>\n",
              "</div>"
            ],
            "text/plain": [
              "                hght500       hght250  ...    wspd500     wspd250\n",
              "2019-01-01  5584.091691  10417.218561  ...  82.993725  155.469545\n",
              "2019-01-02  5607.236949  10427.617116  ...  81.270056  125.929139\n",
              "2019-01-03  5559.155641  10417.338415  ...  58.783590  142.119585\n",
              "2019-01-04  5649.720516  10466.396818  ...  14.805960   53.075303\n",
              "2019-01-05  5594.529366  10421.502471  ...  27.923660   46.571559\n",
              "...                 ...           ...  ...        ...         ...\n",
              "2019-12-27  5693.368091  10558.402604  ...  62.209288  100.965396\n",
              "2019-12-28  5693.079348  10505.704812  ...  42.241303   88.832105\n",
              "2019-12-29  5645.278642  10574.277634  ...  58.876936  116.470305\n",
              "2019-12-30  5386.479091  10240.814538  ...  42.492727   93.965423\n",
              "2019-12-31  5356.041826  10181.056565  ...  39.001652   69.960458\n",
              "\n",
              "[365 rows x 11 columns]"
            ]
          },
          "metadata": {
            "tags": []
          },
          "execution_count": 105
        }
      ]
    },
    {
      "cell_type": "code",
      "metadata": {
        "id": "3-_jieWY6ThV",
        "colab_type": "code",
        "colab": {}
      },
      "source": [
        "import pandas as pd \n",
        "import glob \n",
        "# %pylab inline \n",
        "\n",
        "#plot parameters that I personally like, feel free to make these your own.\n",
        "matplotlib.rcParams['axes.facecolor'] = [0.9,0.9,0.9]\n",
        "matplotlib.rcParams['axes.labelsize'] = 14\n",
        "matplotlib.rcParams['axes.titlesize'] = 14\n",
        "matplotlib.rcParams['xtick.labelsize'] = 12\n",
        "matplotlib.rcParams['ytick.labelsize'] = 12\n",
        "matplotlib.rcParams['legend.fontsize'] = 12\n",
        "matplotlib.rcParams['legend.facecolor'] = 'w'\n",
        "\n",
        "%config InlineBackend.figure_format = 'retina'\n",
        "\n",
        "class wxchallenge():\n",
        "  \"\"\" \n",
        "  This is the main class for Project 4. Intended to predict weather\n",
        "\n",
        "  \"\"\"\n",
        "\n",
        "  def __init__(self):\n",
        "    self.intialized = True\n",
        "\n",
        "  def preprocess_prof(self):\n",
        "\n",
        "    \"\"\"\n",
        "    Method to preprocess the daily forecast files (most simple model)\n",
        "    \"\"\"\n",
        "    filename = './KCMI_prof.csv'\n",
        "    df_prof = pd.read_csv(filename)\n",
        "    df_prof = df_prof.loc[:, ~df_prof.columns.str.contains('^Unnamed')]\n",
        "    df_prof = df_prof.set_index(pd.DatetimeIndex(df_prof['date']))\n",
        "    df_prof = df_prof.loc[:, ~df_prof.columns.str.contains('date')]\n",
        "\n",
        "    #split the data into train and test \n",
        "    df_prof_train = df_prof.iloc[df_prof.index.values < np.datetime64('2019-01-01')]\n",
        "    df_prof_test = df_prof.iloc[df_prof.index.values >= np.datetime64('2019-01-01')]\n",
        "\n",
        "    # #valid training range\n",
        "    dtime_index_train = pd.date_range(start='2010-01-02',end='2018-12-31')\n",
        "    df_prof_train = df_prof_train[~df_prof_train.index.duplicated()]\n",
        "    df_prof_train = df_prof_train.reindex(index=dtime_index_train)\n",
        "\n",
        "    # #valid testing range \n",
        "    dtime_index_test = pd.date_range(start='2019-01-01',end='2019-12-31')\n",
        "    df_prof_test = df_prof_test[~df_prof_test.index.duplicated()]\n",
        "    df_prof_test = df_prof_test.reindex(index=dtime_index_test)\n",
        "\n",
        "    self.daily_train = df_prof_train\n",
        "    self.daily_test = df_prof_test\n",
        "\n",
        "  def preprocess_daily(self):\n",
        "\n",
        "    \"\"\"\n",
        "    Method to preprocess the daily forecast files (most simple model)\n",
        "    \"\"\"\n",
        "\n",
        "    filenames = glob.glob('./bufkit/*.gfs_kcmi.buf_daily.csv')\n",
        "    filenames.sort()\n",
        "\n",
        "    dfs = []\n",
        "    for i in filenames:\n",
        "      dfs.append(pd.read_csv(i))\n",
        "\n",
        "    df_temp = pd.concat(dfs)\n",
        "    df_forecast = pd.DataFrame(data={'MaxT':df_temp['TMAX'].values,'MinT':df_temp['TMIN'].values,'WMAX':df_temp['WMAX'].values,'PTOT':df_temp['RTOT'].values,},index=pd.to_datetime(pd.to_datetime(df_temp['Unnamed: 0'].values).date)+datetime.timedelta(days=1))\n",
        "\n",
        "    #split the data into train and test \n",
        "    df_forecast_train = df_forecast.iloc[df_forecast.index.values < np.datetime64('2019-01-01')]\n",
        "    df_forecast_test = df_forecast.iloc[df_forecast.index.values >= np.datetime64('2019-01-01')]\n",
        "\n",
        "    #valid training range\n",
        "    dtime_index_train = pd.date_range(start='2010-01-02',end='2018-12-31')\n",
        "    df_forecast_train = df_forecast_train.reindex(index=dtime_index_train)\n",
        "\n",
        "    #valid testing range \n",
        "    dtime_index_test = pd.date_range(start='2019-01-01',end='2019-12-31')\n",
        "    df_forecast_test = df_forecast_test.reindex(index=dtime_index_test)\n",
        "\n",
        "    self.daily_train = df_forecast_train\n",
        "    self.daily_test = df_forecast_test\n",
        "\n",
        "  def preprocess_truth(self):\n",
        "\n",
        "    \"\"\"\n",
        "    Method to preprocess the observations \n",
        "    \"\"\"\n",
        "\n",
        "    #load the truth data\n",
        "    # truth_df = pd.read_csv('./ATMS-597-SP-2020-Project4-GroupG/ATMS-597-SP-2020-Project-4/KCMI_daily.csv',skiprows=8)\n",
        "    # truth_df = truth_df.drop(columns='Unnamed: 5')\n",
        "    # truth_df = truth_df.dropna(how='any')\n",
        "\n",
        "    truth_df = pd.read_csv('./ATMS-597-SP-2020-Project4-GroupG/KCMI_daily_updated.csv')\n",
        "\n",
        "    # truth_df = truth_df.drop(columns='Total Precip (in)')\n",
        "\n",
        "    series_df = pd.DataFrame(data={'MaxT':truth_df['Max Hourly Temp (F)'].values,'MinT':truth_df['Min Hourly Temp (F)'].values,'WMAX':truth_df['Max Wind Speed (mph)'].values,'PTOT':truth_df['Total Precip (in)'].values},index=pd.to_datetime(truth_df['Date'].values))\n",
        "\n",
        "    #split into train and test \n",
        "    df_obs_train = series_df.iloc[series_df.index.values < np.datetime64('2019-01-01')]\n",
        "    df_obs_test = series_df.iloc[series_df.index.values >= np.datetime64('2019-01-01')]\n",
        "\n",
        "    #fill missing values with np.nan\n",
        "    df_obs_train = df_obs_train.where((df_obs_train.MaxT != 'M'))\n",
        "    df_obs_train = df_obs_train.where((df_obs_train.MinT != 'M'))\n",
        "    df_obs_train = df_obs_train.where((df_obs_train.WMAX != 'M'))\n",
        "    df_obs_train = df_obs_train.where((df_obs_train.PTOT >= 0.0))\n",
        "    #convert to floats and deg C \n",
        "    df_obs_train.MaxT = (df_obs_train.MaxT.astype(float) - 32)*(5/9.)\n",
        "    df_obs_train.MinT = (df_obs_train.MinT.astype(float) - 32)*(5/9.)\n",
        "    #convert to floats and m/s\n",
        "    df_obs_train.WMAX  = (df_obs_train.WMAX.astype(float)) * 0.44704\n",
        "    #convert to floats and inches\n",
        "    df_obs_train.PTOT  = (df_obs_train.PTOT.astype(float)) *0.0393701\n",
        "\n",
        "    #fill missing values with np.nan\n",
        "    df_obs_test = df_obs_test.where((df_obs_test.MaxT != 'M'))\n",
        "    df_obs_test = df_obs_test.where((df_obs_test.MinT != 'M'))\n",
        "    df_obs_test = df_obs_test.where((df_obs_test.WMAX != 'M'))\n",
        "    df_obs_test = df_obs_test.where((df_obs_test.PTOT >= 0.0))\n",
        "    #convert to floats and deg C \n",
        "    df_obs_test.MaxT = (df_obs_test.MaxT.astype(float) - 32)*(5/9.)\n",
        "    df_obs_test.MinT = (df_obs_test.MinT.astype(float) - 32)*(5/9.)\n",
        "    #convert to floats and m/s\n",
        "    df_obs_test.WMAX  = (df_obs_test.WMAX.astype(float)) * 0.44704\n",
        "    #convert to floats and inches\n",
        "    df_obs_test.PTOT  = (df_obs_test.PTOT.astype(float)) *0.0393701\n",
        "\n",
        "    #valid training range\n",
        "    dtime_index_train = pd.date_range(start='2010-01-02',end='2018-12-31')\n",
        "    df_obs_train = df_obs_train.reindex(index=dtime_index_train)\n",
        "    #valid testing range \n",
        "    dtime_index_test = pd.date_range(start='2019-01-01',end='2019-12-31')\n",
        "    df_obs_test = df_obs_test.reindex(index=dtime_index_test)\n",
        "\n",
        "    self.obs_train = df_obs_train\n",
        "    self.obs_test = df_obs_test\n",
        "\n",
        "  def run_simple_regressor_random_forest(self,n_estimators=None,max_depth=None):\n",
        "    from sklearn.preprocessing import StandardScaler\n",
        "    keys = ['MaxT','MinT','WMAX','PTOT']\n",
        "    regress_dict = {}\n",
        "    for i in keys: \n",
        "      X_train = wx.daily_train[i].values\n",
        "      y_train = wx.obs_train[i].values\n",
        "      X_test = wx.daily_test[i].values\n",
        "      y_test = wx.obs_test[i].values\n",
        "      X_train,X_test,y_train,y_test = dropna(X_train,X_test,y_train,y_test)\n",
        "      #reshape as needed \n",
        "      X_train = X_train.reshape(X_train.shape[0],1)\n",
        "      X_test = X_test.reshape(X_test.shape[0],1)\n",
        "\n",
        "      #scale it (mean 0, std 1)\n",
        "      scaler = StandardScaler()\n",
        "      X_train_scaled = scaler.fit_transform(X_train)\n",
        "      X_test_scaled = scaler.transform(X_test)\n",
        "      wx.X_train =  X_train_scaled\n",
        "      wx.X_test = X_test_scaled\n",
        "      wx.y_train = y_train\n",
        "      wx.y_test = y_test \n",
        "      regress = regressor(wxobj=wx)\n",
        "      regress.random_forest(n_estimators=n_estimators,max_depth=max_depth)\n",
        "      regress_dict[i] = regress\n",
        "\n",
        "    self.regress_dict = regress_dict\n",
        "\n",
        "  # def make_df_of_numbers_random_forest(self):\n",
        "\n",
        "    \n",
        "class regressor:\n",
        "  def __init__(self,wxobj=None):\n",
        "    self.initialized = True\n",
        "    self.wxobj = wxobj\n",
        "  def random_forest(self,n_estimators=None, max_depth=None):\n",
        "    if n_estimators is None:\n",
        "      n_estimators = 100\n",
        "\n",
        "    from sklearn.ensemble import RandomForestRegressor\n",
        "    from sklearn.metrics import mean_squared_error\n",
        "    regr = RandomForestRegressor(max_depth=max_depth, n_estimators=n_estimators)\n",
        "    regr.fit(self.wxobj.X_train, self.wxobj.y_train)\n",
        "\n",
        "    self.regr = regr \n",
        "    self.score_train = regr.score(self.wxobj.X_train,self.wxobj.y_train)\n",
        "    self.score_test= regr.score(self.wxobj.X_test,self.wxobj.y_test)\n",
        "    self.yhat_test = regr.predict(self.wxobj.X_test)\n",
        "    self.yhat_train = regr.predict(self.wxobj.X_train)\n",
        "    self.y_train = self.wxobj.y_train\n",
        "    self.y_test = self.wxobj.y_test\n",
        "\n",
        "    self.rmse_test = np.sqrt(mean_squared_error(self.y_test, self.yhat_test))\n",
        "    self.rmse_train = np.sqrt(mean_squared_error(self.y_train, self.yhat_train))\n",
        "    self.mae_test = np.mean(np.abs(self.yhat_test-self.y_test))\n",
        "    self.mae_train = np.mean(np.abs(self.yhat_train-self.y_train))\n",
        "\n",
        "def dropna(X_train,X_test,y_train,y_test):\n",
        "\n",
        "    ind = np.isnan(X_train)\n",
        "    X_train = X_train[~ind]\n",
        "    y_train = y_train[~ind]\n",
        "    ind = np.isnan(y_train)\n",
        "    X_train = X_train[~ind]\n",
        "    y_train = y_train[~ind]\n",
        "    ind = np.isnan(X_test)\n",
        "    X_test = X_test[~ind]\n",
        "    y_test = y_test[~ind]\n",
        "    ind = np.isnan(y_test)\n",
        "    X_test = X_test[~ind]\n",
        "    y_test = y_test[~ind]\n",
        "\n",
        "    return X_train,X_test,y_train,y_test"
      ],
      "execution_count": 0,
      "outputs": []
    },
    {
      "cell_type": "code",
      "metadata": {
        "id": "-ymHq7Sx660j",
        "colab_type": "code",
        "colab": {}
      },
      "source": [
        "#let us actually run the class methods \n",
        "wx = wxchallenge()\n",
        "wx.preprocess_daily()\n",
        "wx.preprocess_truth()\n",
        "#in this method is a way to train a random forest on all the data. Still working on its functionality \n",
        "wx.run_simple_regressor_random_forest()"
      ],
      "execution_count": 0,
      "outputs": []
    },
    {
      "cell_type": "code",
      "metadata": {
        "id": "xkzShR1rhRHG",
        "colab_type": "code",
        "outputId": "5d51e964-8840-42c5-d033-6598ca945bf2",
        "colab": {
          "base_uri": "https://localhost:8080/",
          "height": 187
        }
      },
      "source": [
        "for i in list(wx.regress_dict.keys()):\n",
        "  print('RMSE on Test for ' +i + ' {}'.format(np.round(wx.regress_dict[i].rmse_test,2)))\n",
        "\n",
        "print('\\n')\n",
        "for i in list(wx.regress_dict.keys()):\n",
        "  print('RMSE on Train for ' +i + ' {}'.format(np.round(wx.regress_dict[i].rmse_train,2)))"
      ],
      "execution_count": 108,
      "outputs": [
        {
          "output_type": "stream",
          "text": [
            "RMSE on Test for MaxT 2.27\n",
            "RMSE on Test for MinT 1.89\n",
            "RMSE on Test for WMAX 1.85\n",
            "RMSE on Test for PTOT 0.22\n",
            "\n",
            "\n",
            "RMSE on Train for MaxT 2.01\n",
            "RMSE on Train for MinT 1.8\n",
            "RMSE on Train for WMAX 1.17\n",
            "RMSE on Train for PTOT 0.13\n"
          ],
          "name": "stdout"
        }
      ]
    },
    {
      "cell_type": "code",
      "metadata": {
        "id": "afB_ezk4_Fp8",
        "colab_type": "code",
        "outputId": "1ce46577-f9ad-4614-93ee-263875a88609",
        "colab": {
          "base_uri": "https://localhost:8080/",
          "height": 726
        }
      },
      "source": [
        "import copy \n",
        "fig,axes = plt.subplots(2,2,figsize=(10,10))\n",
        "\n",
        "axes = np.ravel(axes)\n",
        "for i,ii in enumerate(list(wx.regress_dict.keys())):\n",
        "  ax = axes[i]\n",
        "  reg_obj = copy.copy(wx.regress_dict[ii])\n",
        "  ax.plot(reg_obj.yhat_train,reg_obj.y_train,'+',color='dodgerblue',label='Train RMSE: {}'.format(np.round(wx.regress_dict[ii].rmse_train,2)))\n",
        "  ax.plot(reg_obj.yhat_test,reg_obj.y_test,'.',color='orangered',label='Test RMSE: {}'.format(np.round(wx.regress_dict[ii].rmse_test,2)))\n",
        "  ax.set_xlabel('$y_{predicted}$')\n",
        "  ax.set_ylabel('$y_{observation}$')\n",
        "  ax.set_title(ii)\n",
        "  ax.legend(loc=2)\n",
        "  \n",
        "fig.tight_layout()"
      ],
      "execution_count": 109,
      "outputs": [
        {
          "output_type": "display_data",
          "data": {
            "image/png": "[encoded data removed]",
            "text/plain": [
              "<Figure size 720x720 with 4 Axes>"
            ]
          },
          "metadata": {
            "tags": [],
            "image/png": {
              "width": 712,
              "height": 709
            }
          }
        }
      ]
    },
    {
      "cell_type": "markdown",
      "metadata": {
        "id": "eozwrc7_6x19",
        "colab_type": "text"
      },
      "source": [
        "# Development area "
      ]
    },
    {
      "cell_type": "code",
      "metadata": {
        "id": "1Jf01PNZy8Pi",
        "colab_type": "code",
        "colab": {}
      },
      "source": [
        "filenames = glob.glob('./bufkit/*.gfs_kcmi.buf_prof.csv')\n",
        "filenames.sort()\n",
        "\n",
        "dfs = []\n",
        "for i in filenames[0:1]:\n",
        "  dfs.append(pd.read_csv(i))"
      ],
      "execution_count": 0,
      "outputs": []
    },
    {
      "cell_type": "code",
      "metadata": {
        "id": "LzoR2sEDzbk8",
        "colab_type": "code",
        "colab": {}
      },
      "source": [
        "import xarray as xr \n",
        "def strip_split_assign(ugly_format):\n",
        "  ugly_format = ugly_format.strip('[]')\n",
        "  ugly_format = ugly_format.split(',')\n",
        "  good_format = np.asarray(ugly_format,dtype=float)\n",
        "  return good_format\n",
        "\n",
        "index = pd.to_datetime(dfs[0]['Unnamed: 0'])\n",
        "# df = dfs[0].drop('Unnamed: 0')\n",
        "# df = pd.DataFrame(data=df)\n",
        "\n",
        "def make_ds(df,dtime):\n",
        "  list_o_keys = list(df.keys())\n",
        "  list_o_da = []\n",
        "  for i in list_o_keys:\n",
        "    if i == 'Unnamed: 0':\n",
        "      continue\n",
        "    da = xr.DataArray(build_mat(df[i]),dims={'time':dtime.values,\n",
        "                                               'pressure': np.array([925,850,700,500,250,100])},coords={'time':dtime.values,\n",
        "                                               'pressure': np.array([925,850,700,500,250,100])},name=i)\n",
        "    list_o_da.append(da)\n",
        "\n",
        "  ds = xr.merge(list_o_da)\n",
        "  return ds\n",
        "\n",
        "def build_mat(column_data):\n",
        "  mat = np.zeros([len(column_data),6])\n",
        "  for i in np.arange(0,len(column_data)):\n",
        "    mat[i,:] = strip_split_assign(column_data[i])\n",
        "  return mat\n",
        "\n",
        "def concat_all_prof_files(filenames):\n",
        "  list_of_ds = []\n",
        "  for i in filenames:\n",
        "    df = pd.read_csv(i)\n",
        "    index = pd.to_datetime(df['Unnamed: 0'])\n",
        "    ds = make_ds(df,index)\n",
        "\n",
        "    list_of_ds.append(ds)\n",
        "  \n",
        "  ds = xr.concat(list_of_ds,dim='time')\n",
        "\n",
        "  return ds \n",
        "\n",
        "ds = concat_all_prof_files(filenames)\n",
        "# ds\n",
        "# filenames[0]\n",
        "\n",
        "# make_"
      ],
      "execution_count": 0,
      "outputs": []
    },
    {
      "cell_type": "code",
      "metadata": {
        "id": "awb1BO-BQ9GP",
        "colab_type": "code",
        "outputId": "468a33ee-6e69-4401-bf4c-ab9193d8f22b",
        "colab": {
          "base_uri": "https://localhost:8080/",
          "height": 102
        }
      },
      "source": [
        "# ds_oneday = ds.where(ds.time >= np.datetime64('2010-01-02T06:00:00'))\n",
        "# ds_oneday = ds_oneday.where(ds_oneday.time <= np.datetime64('2010-01-03T06:00:00'))\n",
        "# ds_oneday = ds_oneday.dropna(dim='time',how='all')\n",
        "# ds_oneday.time\n",
        "# ds.shape\n",
        "#there are 9 profiles for each forecast time \n",
        "ind = np.arange(0,len(ds.time),9)\n",
        "ds.time.values[ind[0]:ind[1]]\n",
        "# ind"
      ],
      "execution_count": 0,
      "outputs": [
        {
          "output_type": "execute_result",
          "data": {
            "text/plain": [
              "array(['2010-01-02T06:00:00.000000000', '2010-01-02T09:00:00.000000000',\n",
              "       '2010-01-02T12:00:00.000000000', '2010-01-02T15:00:00.000000000',\n",
              "       '2010-01-02T18:00:00.000000000', '2010-01-02T21:00:00.000000000',\n",
              "       '2010-01-03T00:00:00.000000000', '2010-01-03T03:00:00.000000000',\n",
              "       '2010-01-03T06:00:00.000000000'], dtype='datetime64[ns]')"
            ]
          },
          "metadata": {
            "tags": []
          },
          "execution_count": 196
        }
      ]
    },
    {
      "cell_type": "markdown",
      "metadata": {
        "id": "R9rEll181jdq",
        "colab_type": "text"
      },
      "source": [
        "we see that for Jan 1 2010, the forecast for 2010-01-02 was:\n",
        "\n",
        "High = -11.26 degC\n",
        "\n",
        "Low = -16.46 degC\n",
        "\n",
        "WMAX = 7.32 m/s\n",
        "\n",
        "Precip = 0.05 inches\n",
        "\n",
        "Let's make the dataframe for the forecasts"
      ]
    },
    {
      "cell_type": "code",
      "metadata": {
        "id": "pI8ReCqh5h7Q",
        "colab_type": "code",
        "outputId": "c495bfb8-1f72-4131-819c-826db918015b",
        "colab": {
          "base_uri": "https://localhost:8080/",
          "height": 85
        }
      },
      "source": [
        "# Python code to demonstrate converting  \n",
        "# string representation of list to list \n",
        "# using json.loads() \n",
        "import json \n",
        "  \n",
        "# initializing string representation of a list \n",
        "ini_list = \"[1, 2, 3, 4, 5]\"\n",
        "  \n",
        "# printing intialized string of list and its type \n",
        "print (\"initial string\", ini_list) \n",
        "print (type(ini_list)) \n",
        "  \n",
        "# Converting string to list \n",
        "res = json.loads(ini_list) \n",
        "  \n",
        "# printing final result and its type \n",
        "print (\"final list\", res) \n",
        "print (type(res)) "
      ],
      "execution_count": 0,
      "outputs": [
        {
          "output_type": "stream",
          "text": [
            "initial string [1, 2, 3, 4, 5]\n",
            "<class 'str'>\n",
            "final list [1, 2, 3, 4, 5]\n",
            "<class 'list'>\n"
          ],
          "name": "stdout"
        }
      ]
    },
    {
      "cell_type": "code",
      "metadata": {
        "id": "iIMdjSQrzi-E",
        "colab_type": "code",
        "outputId": "0994e13d-21a5-4cfe-e162-514630f5f540",
        "colab": {
          "base_uri": "https://localhost:8080/",
          "height": 204
        }
      },
      "source": [
        "#load the truth data\n",
        "truth_df = pd.read_csv('./ATMS-597-SP-2020-Project4-GroupG/ATMS-597-SP-2020-Project-4/KCMI_daily.csv',skiprows=8)\n",
        "truth_df = truth_df.drop(columns='Unnamed: 5')\n",
        "truth_df = truth_df.dropna(how='any')\n",
        "truth_df.head()"
      ],
      "execution_count": 0,
      "outputs": [
        {
          "output_type": "execute_result",
          "data": {
            "text/html": [
              "<div>\n",
              "<style scoped>\n",
              "    .dataframe tbody tr th:only-of-type {\n",
              "        vertical-align: middle;\n",
              "    }\n",
              "\n",
              "    .dataframe tbody tr th {\n",
              "        vertical-align: top;\n",
              "    }\n",
              "\n",
              "    .dataframe thead th {\n",
              "        text-align: right;\n",
              "    }\n",
              "</style>\n",
              "<table border=\"1\" class=\"dataframe\">\n",
              "  <thead>\n",
              "    <tr style=\"text-align: right;\">\n",
              "      <th></th>\n",
              "      <th>Date</th>\n",
              "      <th>Max Hourly Temp (F)</th>\n",
              "      <th>Min Hourly Temp (F)</th>\n",
              "      <th>Max Wind Speed (mph)</th>\n",
              "      <th>Total Precip (in)</th>\n",
              "    </tr>\n",
              "  </thead>\n",
              "  <tbody>\n",
              "    <tr>\n",
              "      <th>0</th>\n",
              "      <td>2010-01-01</td>\n",
              "      <td>12</td>\n",
              "      <td>2</td>\n",
              "      <td>15</td>\n",
              "      <td>M</td>\n",
              "    </tr>\n",
              "    <tr>\n",
              "      <th>1</th>\n",
              "      <td>2010-01-02</td>\n",
              "      <td>6</td>\n",
              "      <td>-5</td>\n",
              "      <td>15</td>\n",
              "      <td>0.00</td>\n",
              "    </tr>\n",
              "    <tr>\n",
              "      <th>2</th>\n",
              "      <td>2010-01-03</td>\n",
              "      <td>10</td>\n",
              "      <td>-6</td>\n",
              "      <td>11</td>\n",
              "      <td>0.00</td>\n",
              "    </tr>\n",
              "    <tr>\n",
              "      <th>3</th>\n",
              "      <td>2010-01-04</td>\n",
              "      <td>11</td>\n",
              "      <td>-2</td>\n",
              "      <td>20</td>\n",
              "      <td>0.00</td>\n",
              "    </tr>\n",
              "    <tr>\n",
              "      <th>4</th>\n",
              "      <td>2010-01-05</td>\n",
              "      <td>10</td>\n",
              "      <td>-1</td>\n",
              "      <td>16</td>\n",
              "      <td>M</td>\n",
              "    </tr>\n",
              "  </tbody>\n",
              "</table>\n",
              "</div>"
            ],
            "text/plain": [
              "         Date Max Hourly Temp (F)  ... Max Wind Speed (mph) Total Precip (in)\n",
              "0  2010-01-01                  12  ...                   15                 M\n",
              "1  2010-01-02                   6  ...                   15              0.00\n",
              "2  2010-01-03                  10  ...                   11              0.00\n",
              "3  2010-01-04                  11  ...                   20              0.00\n",
              "4  2010-01-05                  10  ...                   16                 M\n",
              "\n",
              "[5 rows x 5 columns]"
            ]
          },
          "metadata": {
            "tags": []
          },
          "execution_count": 92
        }
      ]
    },
    {
      "cell_type": "markdown",
      "metadata": {
        "id": "594QA1_2338h",
        "colab_type": "text"
      },
      "source": [
        "For now, lets just look at temperature "
      ]
    },
    {
      "cell_type": "code",
      "metadata": {
        "id": "dYa-sheKznyn",
        "colab_type": "code",
        "colab": {}
      },
      "source": [
        "truth_df = truth_df.drop(columns='Total Precip (in)')"
      ],
      "execution_count": 0,
      "outputs": []
    },
    {
      "cell_type": "code",
      "metadata": {
        "id": "x6-zc7M3z3gE",
        "colab_type": "code",
        "colab": {}
      },
      "source": [
        "series_df = pd.DataFrame(data={'MaxT':truth_df['Max Hourly Temp (F)'].values,'MinT':truth_df['Min Hourly Temp (F)'].values,},index=pd.to_datetime(truth_df['Date'].values))\n",
        "\n",
        "#split into train and test \n",
        "df_obs_train = series_df.iloc[series_df.index.values < np.datetime64('2019-01-01')]\n",
        "df_obs_test = series_df.iloc[series_df.index.values >= np.datetime64('2019-01-01')]"
      ],
      "execution_count": 0,
      "outputs": []
    },
    {
      "cell_type": "code",
      "metadata": {
        "id": "Unls0Wo55Xhp",
        "colab_type": "code",
        "outputId": "0253a894-28e4-4982-fb0d-93afeeaeb6d7",
        "colab": {
          "base_uri": "https://localhost:8080/",
          "height": 204
        }
      },
      "source": [
        "#fill missing values with np.nan\n",
        "df_obs_train = df_obs_train.where((df_obs_train.MaxT != 'M'))\n",
        "df_obs_train = df_obs_train.where((df_obs_train.MinT != 'M'))\n",
        "#convert to floats and deg C \n",
        "df_obs_train.MaxT = (df_obs_train.MaxT.astype(float) - 32)*(5/9.)\n",
        "df_obs_train.MinT = (df_obs_train.MinT.astype(float) - 32)*(5/9.)\n",
        "\n",
        "#fill missing values with np.nan\n",
        "df_obs_test = df_obs_test.where((df_obs_test.MaxT != 'M'))\n",
        "df_obs_test = df_obs_test.where((df_obs_test.MinT != 'M'))\n",
        "#convert to floats and deg C \n",
        "df_obs_test.MaxT = (df_obs_test.MaxT.astype(float) - 32)*(5/9.)\n",
        "df_obs_test.MinT = (df_obs_test.MinT.astype(float) - 32)*(5/9.)\n",
        "\n",
        "df_obs_train.head()"
      ],
      "execution_count": 0,
      "outputs": [
        {
          "output_type": "execute_result",
          "data": {
            "text/html": [
              "<div>\n",
              "<style scoped>\n",
              "    .dataframe tbody tr th:only-of-type {\n",
              "        vertical-align: middle;\n",
              "    }\n",
              "\n",
              "    .dataframe tbody tr th {\n",
              "        vertical-align: top;\n",
              "    }\n",
              "\n",
              "    .dataframe thead th {\n",
              "        text-align: right;\n",
              "    }\n",
              "</style>\n",
              "<table border=\"1\" class=\"dataframe\">\n",
              "  <thead>\n",
              "    <tr style=\"text-align: right;\">\n",
              "      <th></th>\n",
              "      <th>MaxT</th>\n",
              "      <th>MinT</th>\n",
              "    </tr>\n",
              "  </thead>\n",
              "  <tbody>\n",
              "    <tr>\n",
              "      <th>2010-01-01</th>\n",
              "      <td>-11.111111</td>\n",
              "      <td>-16.666667</td>\n",
              "    </tr>\n",
              "    <tr>\n",
              "      <th>2010-01-02</th>\n",
              "      <td>-14.444444</td>\n",
              "      <td>-20.555556</td>\n",
              "    </tr>\n",
              "    <tr>\n",
              "      <th>2010-01-03</th>\n",
              "      <td>-12.222222</td>\n",
              "      <td>-21.111111</td>\n",
              "    </tr>\n",
              "    <tr>\n",
              "      <th>2010-01-04</th>\n",
              "      <td>-11.666667</td>\n",
              "      <td>-18.888889</td>\n",
              "    </tr>\n",
              "    <tr>\n",
              "      <th>2010-01-05</th>\n",
              "      <td>-12.222222</td>\n",
              "      <td>-18.333333</td>\n",
              "    </tr>\n",
              "  </tbody>\n",
              "</table>\n",
              "</div>"
            ],
            "text/plain": [
              "                 MaxT       MinT\n",
              "2010-01-01 -11.111111 -16.666667\n",
              "2010-01-02 -14.444444 -20.555556\n",
              "2010-01-03 -12.222222 -21.111111\n",
              "2010-01-04 -11.666667 -18.888889\n",
              "2010-01-05 -12.222222 -18.333333"
            ]
          },
          "metadata": {
            "tags": []
          },
          "execution_count": 153
        }
      ]
    },
    {
      "cell_type": "code",
      "metadata": {
        "id": "drvBXzc6A0gT",
        "colab_type": "code",
        "colab": {}
      },
      "source": [
        "#valid training range\n",
        "dtime_index_train = pd.date_range(start='2010-01-02',end='2018-12-31')\n",
        "#valid testing range \n",
        "dtime_index_test = pd.date_range(start='2019-01-01',end='2019-12-31')\n",
        "\n",
        "df_forecast_train = df_forecast_train.reindex(index=dtime_index_train)\n",
        "df_obs_train = df_obs_train.reindex(index=dtime_index_train)\n",
        "\n",
        "df_forecast_test = df_forecast_test.reindex(index=dtime_index_test)\n",
        "df_obs_test = df_obs_test.reindex(index=dtime_index_test)"
      ],
      "execution_count": 0,
      "outputs": []
    },
    {
      "cell_type": "markdown",
      "metadata": {
        "id": "5B9aHljYBiEg",
        "colab_type": "text"
      },
      "source": [
        "Ok. now we can do SKLEARN things"
      ]
    },
    {
      "cell_type": "code",
      "metadata": {
        "id": "f0F5cRuOz-Bc",
        "colab_type": "code",
        "colab": {}
      },
      "source": [
        "import sklearn \n",
        "from sklearn.preprocessing import StandardScaler\n",
        "from sklearn.linear_model import LinearRegression\n",
        "\n",
        "X_train = df_forecast_train.MaxT.values\n",
        "y_train = df_obs_train.MaxT.values\n",
        "\n",
        "X_test = df_forecast_test.MaxT.values\n",
        "y_test = df_obs_test.MaxT.values\n",
        "\n",
        "ind = np.isnan(X_train)\n",
        "X_train = X_train[~ind]\n",
        "y_train = y_train[~ind]\n",
        "\n",
        "ind = np.isnan(y_train)\n",
        "X_train = X_train[~ind]\n",
        "y_train = y_train[~ind]\n",
        "\n",
        "ind = np.isnan(X_test)\n",
        "X_test = X_test[~ind]\n",
        "y_test = y_test[~ind]\n",
        "\n",
        "ind = np.isnan(y_test)\n",
        "X_test = X_test[~ind]\n",
        "y_test = y_test[~ind]\n",
        "\n",
        "X_train = X_train.reshape(X_train.shape[0],1)\n",
        "X_test = X_test.reshape(X_test.shape[0],1)\n",
        "\n",
        "scaler = StandardScaler()\n",
        "X_train_scaled = scaler.fit_transform(X_train)\n",
        "X_test_scaled = scaler.transform(X_test)\n",
        "\n",
        "\n",
        "reg = LinearRegression().fit(X_train_scaled, y_train)\n",
        "y_hat = reg.predict(X_test_scaled)"
      ],
      "execution_count": 0,
      "outputs": []
    },
    {
      "cell_type": "code",
      "metadata": {
        "id": "N21BHHmH4pEz",
        "colab_type": "code",
        "outputId": "899247a3-5b34-4c3c-85c7-877ce014cc4e",
        "colab": {
          "base_uri": "https://localhost:8080/",
          "height": 282
        }
      },
      "source": [
        "plt.plot(y_hat,y_test,'.')"
      ],
      "execution_count": 0,
      "outputs": [
        {
          "output_type": "execute_result",
          "data": {
            "text/plain": [
              "[<matplotlib.lines.Line2D at 0x7fb46c7d10b8>]"
            ]
          },
          "metadata": {
            "tags": []
          },
          "execution_count": 158
        },
        {
          "output_type": "display_data",
          "data": {
            "image/png": "[encoded data removed]",
            "text/plain": [
              "<Figure size 432x288 with 1 Axes>"
            ]
          },
          "metadata": {
            "tags": []
          }
        }
      ]
    },
    {
      "cell_type": "code",
      "metadata": {
        "id": "mLozrw2F6aeo",
        "colab_type": "code",
        "outputId": "526c477a-788c-46c2-87f4-b7d65c9ed5c6",
        "colab": {
          "base_uri": "https://localhost:8080/",
          "height": 34
        }
      },
      "source": [
        "reg.score(X_test_scaled,y_test)"
      ],
      "execution_count": 0,
      "outputs": [
        {
          "output_type": "execute_result",
          "data": {
            "text/plain": [
              "0.9675801863384572"
            ]
          },
          "metadata": {
            "tags": []
          },
          "execution_count": 159
        }
      ]
    },
    {
      "cell_type": "code",
      "metadata": {
        "id": "c9V9Wr3G6lpZ",
        "colab_type": "code",
        "outputId": "d14df082-ff6f-4f17-ea19-c24ea9d9e450",
        "colab": {
          "base_uri": "https://localhost:8080/",
          "height": 34
        }
      },
      "source": [
        "np.mean(np.abs(y_hat - y_test))"
      ],
      "execution_count": 0,
      "outputs": [
        {
          "output_type": "execute_result",
          "data": {
            "text/plain": [
              "1.6368555736721184"
            ]
          },
          "metadata": {
            "tags": []
          },
          "execution_count": 160
        }
      ]
    },
    {
      "cell_type": "code",
      "metadata": {
        "id": "CdsCj91w8IxG",
        "colab_type": "code",
        "colab": {}
      },
      "source": [
        "class wxchallenge():\n",
        "\n",
        "  def __init__(self):\n",
        "    self.intialized = True\n",
        "  \n",
        "  def preprocess_daily(self):\n",
        "\n",
        "    \"\"\"\n",
        "    Method to preprocess the daily forecast files (most simple model)\n",
        "    \"\"\"\n",
        "\n",
        "    filenames = glob.glob('./bufkit/*.gfs_kcmi.buf_daily.csv')\n",
        "    filenames.sort()\n",
        "\n",
        "    dfs = []\n",
        "    for i in filenames:\n",
        "      dfs.append(pd.read_csv(i))\n",
        "\n",
        "    df_temp = pd.concat(dfs)\n",
        "    df_forecast = pd.DataFrame(data={'MaxT':df_temp['TMAX'].values,'MinT':df_temp['TMIN'].values,'WMAX':df_temp['WMAX'].values,'PTOT':df_temp['PTOT'].values,},index=pd.to_datetime(pd.to_datetime(df_temp['Unnamed: 0'].values).date)+datetime.timedelta(days=1))\n",
        "\n",
        "    #split the data into train and test \n",
        "    df_forecast_train = df_forecast.iloc[df_forecast.index.values < np.datetime64('2019-01-01')]\n",
        "    df_forecast_test = df_forecast.iloc[df_forecast.index.values >= np.datetime64('2019-01-01')]\n",
        "\n",
        "    #valid training range\n",
        "    dtime_index_train = pd.date_range(start='2010-01-02',end='2018-12-31')\n",
        "    df_forecast_train = df_forecast_train.reindex(index=dtime_index_train)\n",
        "\n",
        "    #valid testing range \n",
        "    dtime_index_test = pd.date_range(start='2019-01-01',end='2019-12-31')\n",
        "    df_forecast_test = df_forecast_test.reindex(index=dtime_index_test)\n",
        "\n",
        "    self.daily_train = df_forecast_train\n",
        "    self.daily_test = df_forecast_test\n",
        "\n",
        "  def preprocess_truth(self):\n",
        "\n",
        "    #load the truth data\n",
        "    truth_df = pd.read_csv('./ATMS-597-SP-2020-Project4-GroupG/ATMS-597-SP-2020-Project-4/KCMI_daily.csv',skiprows=8)\n",
        "    truth_df = truth_df.drop(columns='Unnamed: 5')\n",
        "    truth_df = truth_df.dropna(how='any')\n",
        "    truth_df.head()\n",
        "\n",
        "\n",
        "    truth_df = truth_df.drop(columns='Total Precip (in)')\n",
        "\n",
        "    series_df = pd.DataFrame(data={'MaxT':truth_df['Max Hourly Temp (F)'].values,'MinT':truth_df['Min Hourly Temp (F)'].values,'WMAX':truth_df['Max Wind Speed (mph)'].values},index=pd.to_datetime(truth_df['Date'].values))\n",
        "\n",
        "    #split into train and test \n",
        "    df_obs_train = series_df.iloc[series_df.index.values < np.datetime64('2019-01-01')]\n",
        "    df_obs_test = series_df.iloc[series_df.index.values >= np.datetime64('2019-01-01')]\n",
        "\n",
        "    #fill missing values with np.nan\n",
        "    df_obs_train = df_obs_train.where((df_obs_train.MaxT != 'M'))\n",
        "    df_obs_train = df_obs_train.where((df_obs_train.MinT != 'M'))\n",
        "    df_obs_train = df_obs_train.where((df_obs_train.WMAX != 'M'))\n",
        "    #convert to floats and deg C \n",
        "    df_obs_train.MaxT = (df_obs_train.MaxT.astype(float) - 32)*(5/9.)\n",
        "    df_obs_train.MinT = (df_obs_train.MinT.astype(float) - 32)*(5/9.)\n",
        "    #convert to floats and m/s\n",
        "    df_obs_train.WMAX  = (df_obs_train.WMAX.astype(float)) * 0.44704\n",
        "\n",
        "    #fill missing values with np.nan\n",
        "    df_obs_test = df_obs_test.where((df_obs_test.MaxT != 'M'))\n",
        "    df_obs_test = df_obs_test.where((df_obs_test.MinT != 'M'))\n",
        "    df_obs_test = df_obs_test.where((df_obs_test.WMAX != 'M'))\n",
        "    #convert to floats and deg C \n",
        "    df_obs_test.MaxT = (df_obs_test.MaxT.astype(float) - 32)*(5/9.)\n",
        "    df_obs_test.MinT = (df_obs_test.MinT.astype(float) - 32)*(5/9.)\n",
        "    #convert to floats and m/s\n",
        "    df_obs_test.WMAX  = (df_obs_test.WMAX.astype(float)) * 0.44704\n",
        "\n",
        "    #valid training range\n",
        "    dtime_index_train = pd.date_range(start='2010-01-02',end='2018-12-31')\n",
        "    df_obs_train = df_obs_train.reindex(index=dtime_index_train)\n",
        "    #valid testing range \n",
        "    dtime_index_test = pd.date_range(start='2019-01-01',end='2019-12-31')\n",
        "    df_obs_test = df_obs_test.reindex(index=dtime_index_test)\n",
        "\n",
        "    self.obs_train = df_obs_train\n",
        "    self.obs_test = df_obs_test"
      ],
      "execution_count": 0,
      "outputs": []
    },
    {
      "cell_type": "code",
      "metadata": {
        "id": "rJ-ZRVNy8Kxs",
        "colab_type": "code",
        "outputId": "71790a56-541a-4a8d-bf02-61a1156cd62b",
        "colab": {
          "base_uri": "https://localhost:8080/",
          "height": 34
        }
      },
      "source": [
        "%pylab inline"
      ],
      "execution_count": 0,
      "outputs": [
        {
          "output_type": "stream",
          "text": [
            "Populating the interactive namespace from numpy and matplotlib\n"
          ],
          "name": "stdout"
        }
      ]
    },
    {
      "cell_type": "code",
      "metadata": {
        "id": "rh1HJ-B28RHi",
        "colab_type": "code",
        "colab": {}
      },
      "source": [
        "df_forecast_train = df_forecast.iloc[df_forecast.index.values < np.datetime64('2019-01-01')]\n",
        "df_forecast_test = df_forecast.iloc[df_forecast.index.values >= np.datetime64('2019-01-01')]"
      ],
      "execution_count": 0,
      "outputs": []
    },
    {
      "cell_type": "code",
      "metadata": {
        "id": "RasZzztY8bBG",
        "colab_type": "code",
        "colab": {}
      },
      "source": [
        "wx = wxchallenge()\n",
        "wx.preprocess_daily()\n",
        "wx.preprocess_truth()\n",
        "# wx.prep"
      ],
      "execution_count": 0,
      "outputs": []
    },
    {
      "cell_type": "code",
      "metadata": {
        "id": "25z2PNIuFnIK",
        "colab_type": "code",
        "outputId": "18ed48ee-80f4-4310-ed20-4f7c279876f0",
        "colab": {
          "base_uri": "https://localhost:8080/",
          "height": 34
        }
      },
      "source": [
        "hourly = './ATMS-597-SP-2020-Project4-GroupG/ATMS-597-SP-2020-Project-4/KCMI_hourly.csv'\n",
        "import pandas as pd\n",
        "%pylab inline"
      ],
      "execution_count": 0,
      "outputs": [
        {
          "output_type": "stream",
          "text": [
            "Populating the interactive namespace from numpy and matplotlib\n"
          ],
          "name": "stdout"
        }
      ]
    },
    {
      "cell_type": "code",
      "metadata": {
        "id": "eEug0qnPztqq",
        "colab_type": "code",
        "colab": {}
      },
      "source": [
        "df = pd.read_csv(hourly)"
      ],
      "execution_count": 0,
      "outputs": []
    },
    {
      "cell_type": "code",
      "metadata": {
        "id": "FHqJf9cHz0TD",
        "colab_type": "code",
        "outputId": "3e3dab21-c7a3-4130-87cf-9cf30ca819cc",
        "colab": {
          "base_uri": "https://localhost:8080/",
          "height": 419
        }
      },
      "source": [
        "wx.obs_train"
      ],
      "execution_count": 0,
      "outputs": [
        {
          "output_type": "execute_result",
          "data": {
            "text/html": [
              "<div>\n",
              "<style scoped>\n",
              "    .dataframe tbody tr th:only-of-type {\n",
              "        vertical-align: middle;\n",
              "    }\n",
              "\n",
              "    .dataframe tbody tr th {\n",
              "        vertical-align: top;\n",
              "    }\n",
              "\n",
              "    .dataframe thead th {\n",
              "        text-align: right;\n",
              "    }\n",
              "</style>\n",
              "<table border=\"1\" class=\"dataframe\">\n",
              "  <thead>\n",
              "    <tr style=\"text-align: right;\">\n",
              "      <th></th>\n",
              "      <th>MaxT</th>\n",
              "      <th>MinT</th>\n",
              "      <th>WMAX</th>\n",
              "    </tr>\n",
              "  </thead>\n",
              "  <tbody>\n",
              "    <tr>\n",
              "      <th>2010-01-02</th>\n",
              "      <td>-14.444444</td>\n",
              "      <td>-20.555556</td>\n",
              "      <td>6.70560</td>\n",
              "    </tr>\n",
              "    <tr>\n",
              "      <th>2010-01-03</th>\n",
              "      <td>-12.222222</td>\n",
              "      <td>-21.111111</td>\n",
              "      <td>4.91744</td>\n",
              "    </tr>\n",
              "    <tr>\n",
              "      <th>2010-01-04</th>\n",
              "      <td>-11.666667</td>\n",
              "      <td>-18.888889</td>\n",
              "      <td>8.94080</td>\n",
              "    </tr>\n",
              "    <tr>\n",
              "      <th>2010-01-05</th>\n",
              "      <td>-12.222222</td>\n",
              "      <td>-18.333333</td>\n",
              "      <td>7.15264</td>\n",
              "    </tr>\n",
              "    <tr>\n",
              "      <th>2010-01-06</th>\n",
              "      <td>-7.777778</td>\n",
              "      <td>-19.444444</td>\n",
              "      <td>3.57632</td>\n",
              "    </tr>\n",
              "    <tr>\n",
              "      <th>...</th>\n",
              "      <td>...</td>\n",
              "      <td>...</td>\n",
              "      <td>...</td>\n",
              "    </tr>\n",
              "    <tr>\n",
              "      <th>2018-12-27</th>\n",
              "      <td>12.222222</td>\n",
              "      <td>3.888889</td>\n",
              "      <td>14.75232</td>\n",
              "    </tr>\n",
              "    <tr>\n",
              "      <th>2018-12-28</th>\n",
              "      <td>10.555556</td>\n",
              "      <td>-2.222222</td>\n",
              "      <td>10.28192</td>\n",
              "    </tr>\n",
              "    <tr>\n",
              "      <th>2018-12-29</th>\n",
              "      <td>-2.222222</td>\n",
              "      <td>-5.000000</td>\n",
              "      <td>7.15264</td>\n",
              "    </tr>\n",
              "    <tr>\n",
              "      <th>2018-12-30</th>\n",
              "      <td>2.222222</td>\n",
              "      <td>-7.777778</td>\n",
              "      <td>9.38784</td>\n",
              "    </tr>\n",
              "    <tr>\n",
              "      <th>2018-12-31</th>\n",
              "      <td>NaN</td>\n",
              "      <td>NaN</td>\n",
              "      <td>NaN</td>\n",
              "    </tr>\n",
              "  </tbody>\n",
              "</table>\n",
              "<p>3286 rows × 3 columns</p>\n",
              "</div>"
            ],
            "text/plain": [
              "                 MaxT       MinT      WMAX\n",
              "2010-01-02 -14.444444 -20.555556   6.70560\n",
              "2010-01-03 -12.222222 -21.111111   4.91744\n",
              "2010-01-04 -11.666667 -18.888889   8.94080\n",
              "2010-01-05 -12.222222 -18.333333   7.15264\n",
              "2010-01-06  -7.777778 -19.444444   3.57632\n",
              "...               ...        ...       ...\n",
              "2018-12-27  12.222222   3.888889  14.75232\n",
              "2018-12-28  10.555556  -2.222222  10.28192\n",
              "2018-12-29  -2.222222  -5.000000   7.15264\n",
              "2018-12-30   2.222222  -7.777778   9.38784\n",
              "2018-12-31        NaN        NaN       NaN\n",
              "\n",
              "[3286 rows x 3 columns]"
            ]
          },
          "metadata": {
            "tags": []
          },
          "execution_count": 185
        }
      ]
    },
    {
      "cell_type": "code",
      "metadata": {
        "id": "nJ_Me0zAz0n6",
        "colab_type": "code",
        "outputId": "abe0cfc4-c95c-40df-9ea2-96278119eb65",
        "colab": {
          "base_uri": "https://localhost:8080/",
          "height": 419
        }
      },
      "source": [
        "pd.read_csv('./ATMS-597-SP-2020-Project4-GroupG/KCMI_daily_updated.csv')"
      ],
      "execution_count": 0,
      "outputs": [
        {
          "output_type": "execute_result",
          "data": {
            "text/html": [
              "<div>\n",
              "<style scoped>\n",
              "    .dataframe tbody tr th:only-of-type {\n",
              "        vertical-align: middle;\n",
              "    }\n",
              "\n",
              "    .dataframe tbody tr th {\n",
              "        vertical-align: top;\n",
              "    }\n",
              "\n",
              "    .dataframe thead th {\n",
              "        text-align: right;\n",
              "    }\n",
              "</style>\n",
              "<table border=\"1\" class=\"dataframe\">\n",
              "  <thead>\n",
              "    <tr style=\"text-align: right;\">\n",
              "      <th></th>\n",
              "      <th>Unnamed: 0</th>\n",
              "      <th>Date</th>\n",
              "      <th>Max Hourly Temp (F)</th>\n",
              "      <th>Min Hourly Temp (F)</th>\n",
              "      <th>Max Wind Speed (mph)</th>\n",
              "      <th>Total Precip (in)</th>\n",
              "      <th>Day of Year</th>\n",
              "    </tr>\n",
              "  </thead>\n",
              "  <tbody>\n",
              "    <tr>\n",
              "      <th>0</th>\n",
              "      <td>0</td>\n",
              "      <td>2010-01-01</td>\n",
              "      <td>12</td>\n",
              "      <td>2</td>\n",
              "      <td>15</td>\n",
              "      <td>0.0</td>\n",
              "      <td>1</td>\n",
              "    </tr>\n",
              "    <tr>\n",
              "      <th>1</th>\n",
              "      <td>1</td>\n",
              "      <td>2010-01-02</td>\n",
              "      <td>6</td>\n",
              "      <td>-5</td>\n",
              "      <td>15</td>\n",
              "      <td>0.0</td>\n",
              "      <td>2</td>\n",
              "    </tr>\n",
              "    <tr>\n",
              "      <th>2</th>\n",
              "      <td>2</td>\n",
              "      <td>2010-01-03</td>\n",
              "      <td>10</td>\n",
              "      <td>-6</td>\n",
              "      <td>11</td>\n",
              "      <td>0.0</td>\n",
              "      <td>3</td>\n",
              "    </tr>\n",
              "    <tr>\n",
              "      <th>3</th>\n",
              "      <td>3</td>\n",
              "      <td>2010-01-04</td>\n",
              "      <td>11</td>\n",
              "      <td>-2</td>\n",
              "      <td>20</td>\n",
              "      <td>0.0</td>\n",
              "      <td>4</td>\n",
              "    </tr>\n",
              "    <tr>\n",
              "      <th>4</th>\n",
              "      <td>4</td>\n",
              "      <td>2010-01-05</td>\n",
              "      <td>10</td>\n",
              "      <td>-1</td>\n",
              "      <td>16</td>\n",
              "      <td>0.0</td>\n",
              "      <td>5</td>\n",
              "    </tr>\n",
              "    <tr>\n",
              "      <th>...</th>\n",
              "      <td>...</td>\n",
              "      <td>...</td>\n",
              "      <td>...</td>\n",
              "      <td>...</td>\n",
              "      <td>...</td>\n",
              "      <td>...</td>\n",
              "      <td>...</td>\n",
              "    </tr>\n",
              "    <tr>\n",
              "      <th>3647</th>\n",
              "      <td>3647</td>\n",
              "      <td>2019-12-27</td>\n",
              "      <td>43</td>\n",
              "      <td>32</td>\n",
              "      <td>15</td>\n",
              "      <td>0.0</td>\n",
              "      <td>361</td>\n",
              "    </tr>\n",
              "    <tr>\n",
              "      <th>3648</th>\n",
              "      <td>3648</td>\n",
              "      <td>2019-12-28</td>\n",
              "      <td>56</td>\n",
              "      <td>32</td>\n",
              "      <td>23</td>\n",
              "      <td>2.8</td>\n",
              "      <td>362</td>\n",
              "    </tr>\n",
              "    <tr>\n",
              "      <th>3649</th>\n",
              "      <td>3649</td>\n",
              "      <td>2019-12-29</td>\n",
              "      <td>59</td>\n",
              "      <td>41</td>\n",
              "      <td>23</td>\n",
              "      <td>4.3</td>\n",
              "      <td>363</td>\n",
              "    </tr>\n",
              "    <tr>\n",
              "      <th>3650</th>\n",
              "      <td>3650</td>\n",
              "      <td>2019-12-30</td>\n",
              "      <td>38</td>\n",
              "      <td>31</td>\n",
              "      <td>26</td>\n",
              "      <td>0.6</td>\n",
              "      <td>364</td>\n",
              "    </tr>\n",
              "    <tr>\n",
              "      <th>3651</th>\n",
              "      <td>3651</td>\n",
              "      <td>2019-12-31</td>\n",
              "      <td>33</td>\n",
              "      <td>30</td>\n",
              "      <td>29</td>\n",
              "      <td>0.0</td>\n",
              "      <td>365</td>\n",
              "    </tr>\n",
              "  </tbody>\n",
              "</table>\n",
              "<p>3652 rows × 7 columns</p>\n",
              "</div>"
            ],
            "text/plain": [
              "      Unnamed: 0        Date  ... Total Precip (in) Day of Year\n",
              "0              0  2010-01-01  ...               0.0           1\n",
              "1              1  2010-01-02  ...               0.0           2\n",
              "2              2  2010-01-03  ...               0.0           3\n",
              "3              3  2010-01-04  ...               0.0           4\n",
              "4              4  2010-01-05  ...               0.0           5\n",
              "...          ...         ...  ...               ...         ...\n",
              "3647        3647  2019-12-27  ...               0.0         361\n",
              "3648        3648  2019-12-28  ...               2.8         362\n",
              "3649        3649  2019-12-29  ...               4.3         363\n",
              "3650        3650  2019-12-30  ...               0.6         364\n",
              "3651        3651  2019-12-31  ...               0.0         365\n",
              "\n",
              "[3652 rows x 7 columns]"
            ]
          },
          "metadata": {
            "tags": []
          },
          "execution_count": 4
        }
      ]
    },
    {
      "cell_type": "code",
      "metadata": {
        "id": "eBtXY6KUgcv9",
        "colab_type": "code",
        "colab": {}
      },
      "source": [
        "truth_df = pd.read_csv('./ATMS-597-SP-2020-Project4-GroupG/KCMI_daily_updated.csv')\n",
        "\n",
        "    # truth_df = truth_df.drop(columns='Total Precip (in)')\n",
        "\n",
        "series_df = pd.DataFrame(data={'MaxT':truth_df['Max Hourly Temp (F)'].values,'MinT':truth_df['Min Hourly Temp (F)'].values,'WMAX':truth_df['Max Wind Speed (mph)'].values,'PTOT':truth_df['Total Precip (in)'].values},index=pd.to_datetime(truth_df['Date'].values))"
      ],
      "execution_count": 0,
      "outputs": []
    },
    {
      "cell_type": "code",
      "metadata": {
        "id": "qaSYvWBphbZm",
        "colab_type": "code",
        "outputId": "1768a65c-f128-43a5-aa4e-86a573ca8c6a",
        "colab": {
          "base_uri": "https://localhost:8080/",
          "height": 476
        }
      },
      "source": [
        "truth_df,series_df"
      ],
      "execution_count": 0,
      "outputs": [
        {
          "output_type": "execute_result",
          "data": {
            "text/plain": [
              "(      Unnamed: 0        Date  ... Total Precip (in) Day of Year\n",
              " 0              0  2010-01-01  ...               0.0           1\n",
              " 1              1  2010-01-02  ...               0.0           2\n",
              " 2              2  2010-01-03  ...               0.0           3\n",
              " 3              3  2010-01-04  ...               0.0           4\n",
              " 4              4  2010-01-05  ...               0.0           5\n",
              " ...          ...         ...  ...               ...         ...\n",
              " 3647        3647  2019-12-27  ...               0.0         361\n",
              " 3648        3648  2019-12-28  ...               2.8         362\n",
              " 3649        3649  2019-12-29  ...               4.3         363\n",
              " 3650        3650  2019-12-30  ...               0.6         364\n",
              " 3651        3651  2019-12-31  ...               0.0         365\n",
              " \n",
              " [3652 rows x 7 columns],            MaxT MinT WMAX  PTOT\n",
              " 2010-01-01   12    2   15   0.0\n",
              " 2010-01-02    6   -5   15   0.0\n",
              " 2010-01-03   10   -6   11   0.0\n",
              " 2010-01-04   11   -2   20   0.0\n",
              " 2010-01-05   10   -1   16   0.0\n",
              " ...         ...  ...  ...   ...\n",
              " 2019-12-27   43   32   15   0.0\n",
              " 2019-12-28   56   32   23   2.8\n",
              " 2019-12-29   59   41   23   4.3\n",
              " 2019-12-30   38   31   26   0.6\n",
              " 2019-12-31   33   30   29   0.0\n",
              " \n",
              " [3652 rows x 4 columns])"
            ]
          },
          "metadata": {
            "tags": []
          },
          "execution_count": 14
        }
      ]
    },
    {
      "cell_type": "code",
      "metadata": {
        "id": "BMBXmmCChcq6",
        "colab_type": "code",
        "colab": {}
      },
      "source": [
        ""
      ],
      "execution_count": 0,
      "outputs": []
    }
  ]
}